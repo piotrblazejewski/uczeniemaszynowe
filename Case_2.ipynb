{
 "cells": [
  {
   "cell_type": "code",
   "execution_count": 1,
   "metadata": {},
   "outputs": [],
   "source": [
    "# import potrzebnych bibliotek\n",
    "import numpy as np\n",
    "import pandas as pd\n",
    "import matplotlib.pyplot as plt\n",
    "import seaborn as sns"
   ]
  },
  {
   "cell_type": "code",
   "execution_count": 2,
   "metadata": {},
   "outputs": [
    {
     "data": {
      "text/plain": [
       "980"
      ]
     },
     "execution_count": 2,
     "metadata": {},
     "output_type": "execute_result"
    }
   ],
   "source": [
    "# wczytywanie danych i podanie liczby filmów Sci-Fi\n",
    "ratings = pd.read_csv('https://s3-us-west-2.amazonaws.com/recommender-tutorial/ratings.csv')\n",
    "movies = pd.read_csv('https://s3-us-west-2.amazonaws.com/recommender-tutorial/movies.csv')\n",
    "\n",
    "movies[movies['genres'].str.contains('Sci-Fi')].value_counts().sum()"
   ]
  },
  {
   "cell_type": "code",
   "execution_count": 3,
   "metadata": {},
   "outputs": [
    {
     "data": {
      "text/html": [
       "<div>\n",
       "<style scoped>\n",
       "    .dataframe tbody tr th:only-of-type {\n",
       "        vertical-align: middle;\n",
       "    }\n",
       "\n",
       "    .dataframe tbody tr th {\n",
       "        vertical-align: top;\n",
       "    }\n",
       "\n",
       "    .dataframe thead th {\n",
       "        text-align: right;\n",
       "    }\n",
       "</style>\n",
       "<table border=\"1\" class=\"dataframe\">\n",
       "  <thead>\n",
       "    <tr style=\"text-align: right;\">\n",
       "      <th></th>\n",
       "      <th>movieId</th>\n",
       "      <th>title</th>\n",
       "      <th>genres</th>\n",
       "      <th>userId</th>\n",
       "      <th>rating</th>\n",
       "      <th>timestamp</th>\n",
       "    </tr>\n",
       "  </thead>\n",
       "  <tbody>\n",
       "    <tr>\n",
       "      <th>0</th>\n",
       "      <td>1</td>\n",
       "      <td>Toy Story (1995)</td>\n",
       "      <td>Adventure|Animation|Children|Comedy|Fantasy</td>\n",
       "      <td>1</td>\n",
       "      <td>4.0</td>\n",
       "      <td>964982703</td>\n",
       "    </tr>\n",
       "    <tr>\n",
       "      <th>1</th>\n",
       "      <td>1</td>\n",
       "      <td>Toy Story (1995)</td>\n",
       "      <td>Adventure|Animation|Children|Comedy|Fantasy</td>\n",
       "      <td>5</td>\n",
       "      <td>4.0</td>\n",
       "      <td>847434962</td>\n",
       "    </tr>\n",
       "    <tr>\n",
       "      <th>2</th>\n",
       "      <td>1</td>\n",
       "      <td>Toy Story (1995)</td>\n",
       "      <td>Adventure|Animation|Children|Comedy|Fantasy</td>\n",
       "      <td>7</td>\n",
       "      <td>4.5</td>\n",
       "      <td>1106635946</td>\n",
       "    </tr>\n",
       "    <tr>\n",
       "      <th>3</th>\n",
       "      <td>1</td>\n",
       "      <td>Toy Story (1995)</td>\n",
       "      <td>Adventure|Animation|Children|Comedy|Fantasy</td>\n",
       "      <td>15</td>\n",
       "      <td>2.5</td>\n",
       "      <td>1510577970</td>\n",
       "    </tr>\n",
       "    <tr>\n",
       "      <th>4</th>\n",
       "      <td>1</td>\n",
       "      <td>Toy Story (1995)</td>\n",
       "      <td>Adventure|Animation|Children|Comedy|Fantasy</td>\n",
       "      <td>17</td>\n",
       "      <td>4.5</td>\n",
       "      <td>1305696483</td>\n",
       "    </tr>\n",
       "    <tr>\n",
       "      <th>...</th>\n",
       "      <td>...</td>\n",
       "      <td>...</td>\n",
       "      <td>...</td>\n",
       "      <td>...</td>\n",
       "      <td>...</td>\n",
       "      <td>...</td>\n",
       "    </tr>\n",
       "    <tr>\n",
       "      <th>100831</th>\n",
       "      <td>193581</td>\n",
       "      <td>Black Butler: Book of the Atlantic (2017)</td>\n",
       "      <td>Action|Animation|Comedy|Fantasy</td>\n",
       "      <td>184</td>\n",
       "      <td>4.0</td>\n",
       "      <td>1537109082</td>\n",
       "    </tr>\n",
       "    <tr>\n",
       "      <th>100832</th>\n",
       "      <td>193583</td>\n",
       "      <td>No Game No Life: Zero (2017)</td>\n",
       "      <td>Animation|Comedy|Fantasy</td>\n",
       "      <td>184</td>\n",
       "      <td>3.5</td>\n",
       "      <td>1537109545</td>\n",
       "    </tr>\n",
       "    <tr>\n",
       "      <th>100833</th>\n",
       "      <td>193585</td>\n",
       "      <td>Flint (2017)</td>\n",
       "      <td>Drama</td>\n",
       "      <td>184</td>\n",
       "      <td>3.5</td>\n",
       "      <td>1537109805</td>\n",
       "    </tr>\n",
       "    <tr>\n",
       "      <th>100834</th>\n",
       "      <td>193587</td>\n",
       "      <td>Bungo Stray Dogs: Dead Apple (2018)</td>\n",
       "      <td>Action|Animation</td>\n",
       "      <td>184</td>\n",
       "      <td>3.5</td>\n",
       "      <td>1537110021</td>\n",
       "    </tr>\n",
       "    <tr>\n",
       "      <th>100835</th>\n",
       "      <td>193609</td>\n",
       "      <td>Andrew Dice Clay: Dice Rules (1991)</td>\n",
       "      <td>Comedy</td>\n",
       "      <td>331</td>\n",
       "      <td>4.0</td>\n",
       "      <td>1537157606</td>\n",
       "    </tr>\n",
       "  </tbody>\n",
       "</table>\n",
       "<p>100836 rows × 6 columns</p>\n",
       "</div>"
      ],
      "text/plain": [
       "        movieId                                      title  \\\n",
       "0             1                           Toy Story (1995)   \n",
       "1             1                           Toy Story (1995)   \n",
       "2             1                           Toy Story (1995)   \n",
       "3             1                           Toy Story (1995)   \n",
       "4             1                           Toy Story (1995)   \n",
       "...         ...                                        ...   \n",
       "100831   193581  Black Butler: Book of the Atlantic (2017)   \n",
       "100832   193583               No Game No Life: Zero (2017)   \n",
       "100833   193585                               Flint (2017)   \n",
       "100834   193587        Bungo Stray Dogs: Dead Apple (2018)   \n",
       "100835   193609        Andrew Dice Clay: Dice Rules (1991)   \n",
       "\n",
       "                                             genres  userId  rating  \\\n",
       "0       Adventure|Animation|Children|Comedy|Fantasy       1     4.0   \n",
       "1       Adventure|Animation|Children|Comedy|Fantasy       5     4.0   \n",
       "2       Adventure|Animation|Children|Comedy|Fantasy       7     4.5   \n",
       "3       Adventure|Animation|Children|Comedy|Fantasy      15     2.5   \n",
       "4       Adventure|Animation|Children|Comedy|Fantasy      17     4.5   \n",
       "...                                             ...     ...     ...   \n",
       "100831              Action|Animation|Comedy|Fantasy     184     4.0   \n",
       "100832                     Animation|Comedy|Fantasy     184     3.5   \n",
       "100833                                        Drama     184     3.5   \n",
       "100834                             Action|Animation     184     3.5   \n",
       "100835                                       Comedy     331     4.0   \n",
       "\n",
       "         timestamp  \n",
       "0        964982703  \n",
       "1        847434962  \n",
       "2       1106635946  \n",
       "3       1510577970  \n",
       "4       1305696483  \n",
       "...            ...  \n",
       "100831  1537109082  \n",
       "100832  1537109545  \n",
       "100833  1537109805  \n",
       "100834  1537110021  \n",
       "100835  1537157606  \n",
       "\n",
       "[100836 rows x 6 columns]"
      ]
     },
     "execution_count": 3,
     "metadata": {},
     "output_type": "execute_result"
    }
   ],
   "source": [
    "# łączenie danych\n",
    "merged = movies.merge(ratings, on='movieId')\n",
    "merged"
   ]
  },
  {
   "cell_type": "code",
   "execution_count": 4,
   "metadata": {},
   "outputs": [
    {
     "name": "stderr",
     "output_type": "stream",
     "text": [
      "C:\\Users\\piotr\\AppData\\Local\\Temp\\ipykernel_15452\\3978525919.py:3: FutureWarning: \n",
      "\n",
      "Passing `palette` without assigning `hue` is deprecated and will be removed in v0.14.0. Assign the `x` variable to `hue` and set `legend=False` for the same effect.\n",
      "\n",
      "  sns.countplot(x=\"rating\", data=comedy_2017, palette=\"viridis\")\n"
     ]
    },
    {
     "data": {
      "image/png": "[encoded data removed]",
      "text/plain": [
       "<Figure size 640x480 with 1 Axes>"
      ]
     },
     "metadata": {},
     "output_type": "display_data"
    }
   ],
   "source": [
    "# rozkład ocen komedii z 2017\n",
    "comedy_2017 = merged[(merged['genres'].str.contains('Comedy')) & (merged['title'].str.contains('2017'))]\n",
    "sns.countplot(x=\"rating\", data=comedy_2017, palette=\"viridis\")\n",
    "plt.title(\"Distribution of comedies ratings from 2017\", fontsize=14)\n",
    "plt.show()"
   ]
  },
  {
   "cell_type": "code",
   "execution_count": 5,
   "metadata": {},
   "outputs": [
    {
     "data": {
      "text/plain": [
       "3.45"
      ]
     },
     "execution_count": 5,
     "metadata": {},
     "output_type": "execute_result"
    }
   ],
   "source": [
    "# średnia ocena wszystkich filmów akcji\n",
    "action_mv = merged[merged['genres'].str.contains('Action')]\n",
    "action_mv['rating'].mean().round(2)"
   ]
  },
  {
   "cell_type": "code",
   "execution_count": 6,
   "metadata": {},
   "outputs": [
    {
     "data": {
      "text/plain": [
       "title\n",
       "Matrix, The (1999)                                      278\n",
       "Star Wars: Episode IV - A New Hope (1977)               251\n",
       "Jurassic Park (1993)                                    238\n",
       "Braveheart (1995)                                       237\n",
       "Terminator 2: Judgment Day (1991)                       224\n",
       "                                                       ... \n",
       "Sword of the Stranger (Sutorejia: Mukô hadan) (2007)      1\n",
       "Gamers, The: Dorkness Rising (2008)                       1\n",
       "Mesrine: Killer Instinct (L'instinct de mort) (2008)      1\n",
       "Battle in Seattle (2007)                                  1\n",
       "Bungo Stray Dogs: Dead Apple (2018)                       1\n",
       "Name: count, Length: 1827, dtype: int64"
      ]
     },
     "execution_count": 6,
     "metadata": {},
     "output_type": "execute_result"
    }
   ],
   "source": [
    "# filmy akcji najczęściej oceniane\n",
    "action_mv['title'].value_counts()"
   ]
  },
  {
   "cell_type": "code",
   "execution_count": 7,
   "metadata": {},
   "outputs": [],
   "source": [
    "# importowanie bibliotek do systemu rekomendacyjnego\n",
    "from surprise.model_selection import cross_validate, GridSearchCV, train_test_split\n",
    "from surprise.prediction_algorithms import SVD, KNNBaseline\n",
    "from surprise import Dataset\n",
    "from surprise import Reader"
   ]
  },
  {
   "cell_type": "code",
   "execution_count": 8,
   "metadata": {},
   "outputs": [],
   "source": [
    "# tworzenie surprise dataset\n",
    "min_rating = ratings.rating.min()\n",
    "max_rating = ratings.rating.max()\n",
    "\n",
    "reader = Reader(rating_scale=(min_rating, max_rating))\n",
    "data = Dataset.load_from_df(ratings[['userId', 'movieId', 'rating']], reader)"
   ]
  },
  {
   "cell_type": "code",
   "execution_count": 9,
   "metadata": {},
   "outputs": [
    {
     "name": "stdout",
     "output_type": "stream",
     "text": [
      "Evaluating RMSE, MAE of algorithm SVD on 5 split(s).\n",
      "\n",
      "                  Fold 1  Fold 2  Fold 3  Fold 4  Fold 5  Mean    Std     \n",
      "RMSE (testset)    0.8782  0.8724  0.8791  0.8748  0.8703  0.8750  0.0033  \n",
      "MAE (testset)     0.6740  0.6689  0.6750  0.6719  0.6699  0.6719  0.0023  \n",
      "Fit time          0.69    0.78    0.80    0.74    0.78    0.76    0.04    \n",
      "Test time         0.07    0.11    0.08    0.08    0.16    0.10    0.03    \n"
     ]
    },
    {
     "data": {
      "text/plain": [
       "{'test_rmse': array([0.87817841, 0.87243684, 0.87906895, 0.87475274, 0.87032678]),\n",
       " 'test_mae': array([0.67400414, 0.66892945, 0.67496655, 0.67186168, 0.66989105]),\n",
       " 'fit_time': (0.6856560707092285,\n",
       "  0.7781150341033936,\n",
       "  0.8028521537780762,\n",
       "  0.74123215675354,\n",
       "  0.7842006683349609),\n",
       " 'test_time': (0.0744166374206543,\n",
       "  0.10873770713806152,\n",
       "  0.08326935768127441,\n",
       "  0.07817506790161133,\n",
       "  0.15631961822509766)}"
      ]
     },
     "execution_count": 9,
     "metadata": {},
     "output_type": "execute_result"
    }
   ],
   "source": [
    "# algorytm svd\n",
    "trainset = data.build_full_trainset()\n",
    "svd = SVD()\n",
    "svd.fit(trainset)\n",
    "cross_validate(svd, data, measures=[\"RMSE\", \"MAE\"], cv=5, verbose=True)"
   ]
  },
  {
   "cell_type": "code",
   "execution_count": 10,
   "metadata": {},
   "outputs": [
    {
     "name": "stdout",
     "output_type": "stream",
     "text": [
      "Estimating biases using als...\n",
      "Computing the cosine similarity matrix...\n",
      "Done computing similarity matrix.\n",
      "Estimating biases using als...\n",
      "Computing the cosine similarity matrix...\n",
      "Done computing similarity matrix.\n",
      "Estimating biases using als...\n",
      "Computing the cosine similarity matrix...\n",
      "Done computing similarity matrix.\n",
      "Estimating biases using als...\n",
      "Computing the cosine similarity matrix...\n",
      "Done computing similarity matrix.\n",
      "Estimating biases using als...\n",
      "Computing the cosine similarity matrix...\n",
      "Done computing similarity matrix.\n",
      "Estimating biases using als...\n",
      "Computing the cosine similarity matrix...\n",
      "Done computing similarity matrix.\n",
      "Estimating biases using als...\n",
      "Computing the cosine similarity matrix...\n",
      "Done computing similarity matrix.\n",
      "Estimating biases using als...\n",
      "Computing the cosine similarity matrix...\n",
      "Done computing similarity matrix.\n",
      "Estimating biases using als...\n",
      "Computing the cosine similarity matrix...\n",
      "Done computing similarity matrix.\n",
      "Estimating biases using als...\n",
      "Computing the cosine similarity matrix...\n",
      "Done computing similarity matrix.\n",
      "Estimating biases using als...\n",
      "Computing the cosine similarity matrix...\n",
      "Done computing similarity matrix.\n",
      "Estimating biases using als...\n",
      "Computing the cosine similarity matrix...\n",
      "Done computing similarity matrix.\n",
      "Estimating biases using als...\n",
      "Computing the cosine similarity matrix...\n",
      "Done computing similarity matrix.\n",
      "Estimating biases using als...\n",
      "Computing the cosine similarity matrix...\n",
      "Done computing similarity matrix.\n",
      "Estimating biases using als...\n",
      "Computing the cosine similarity matrix...\n",
      "Done computing similarity matrix.\n",
      "Estimating biases using als...\n",
      "Computing the cosine similarity matrix...\n",
      "Done computing similarity matrix.\n",
      "Estimating biases using als...\n",
      "Computing the cosine similarity matrix...\n",
      "Done computing similarity matrix.\n",
      "Estimating biases using als...\n",
      "Computing the cosine similarity matrix...\n",
      "Done computing similarity matrix.\n",
      "Estimating biases using als...\n",
      "Computing the cosine similarity matrix...\n",
      "Done computing similarity matrix.\n",
      "Estimating biases using als...\n",
      "Computing the cosine similarity matrix...\n",
      "Done computing similarity matrix.\n",
      "Estimating biases using als...\n",
      "Computing the cosine similarity matrix...\n",
      "Done computing similarity matrix.\n",
      "Estimating biases using als...\n",
      "Computing the cosine similarity matrix...\n",
      "Done computing similarity matrix.\n",
      "Estimating biases using als...\n",
      "Computing the cosine similarity matrix...\n",
      "Done computing similarity matrix.\n",
      "Estimating biases using als...\n",
      "Computing the cosine similarity matrix...\n",
      "Done computing similarity matrix.\n",
      "Estimating biases using als...\n",
      "Computing the cosine similarity matrix...\n",
      "Done computing similarity matrix.\n",
      "{'k': 6, 'sim_options': {'name': 'cosine', 'user_based': False}}\n"
     ]
    }
   ],
   "source": [
    "# algorytm KNNBaseline i GridSearchCV\n",
    "sim_options = {\n",
    "    'name': 'cosine',\n",
    "    'user_based': False\n",
    "}\n",
    "\n",
    "param_grid = {\n",
    "    'k': [2, 3, 4, 5, 6],\n",
    "    'sim_options': {\n",
    "        'name': ['cosine'],\n",
    "        'user_based': [False]  # Opcja dla podobieństwa między filmami\n",
    "    }\n",
    "}\n",
    "\n",
    "gs_knn = GridSearchCV(KNNBaseline, param_grid, measures=['RMSE', 'MAE'], cv=5)\n",
    "\n",
    "gs_knn.fit(data)\n",
    "print(gs_knn.best_params['rmse'])\n"
   ]
  },
  {
   "cell_type": "code",
   "execution_count": 11,
   "metadata": {},
   "outputs": [
    {
     "name": "stdout",
     "output_type": "stream",
     "text": [
      "Estimating biases using als...\n",
      "Computing the cosine similarity matrix...\n",
      "Done computing similarity matrix.\n",
      "Estimating biases using als...\n",
      "Computing the cosine similarity matrix...\n",
      "Done computing similarity matrix.\n",
      "Estimating biases using als...\n",
      "Computing the cosine similarity matrix...\n",
      "Done computing similarity matrix.\n",
      "Estimating biases using als...\n",
      "Computing the cosine similarity matrix...\n",
      "Done computing similarity matrix.\n",
      "Estimating biases using als...\n",
      "Computing the cosine similarity matrix...\n",
      "Done computing similarity matrix.\n",
      "Estimating biases using als...\n",
      "Computing the cosine similarity matrix...\n",
      "Done computing similarity matrix.\n",
      "Evaluating RMSE, MAE of algorithm KNNBaseline on 5 split(s).\n",
      "\n",
      "                  Fold 1  Fold 2  Fold 3  Fold 4  Fold 5  Mean    Std     \n",
      "RMSE (testset)    0.9663  0.9637  0.9486  0.9656  0.9515  0.9591  0.0075  \n",
      "MAE (testset)     0.7430  0.7427  0.7340  0.7442  0.7368  0.7402  0.0040  \n",
      "Fit time          4.44    4.42    4.30    4.43    4.36    4.39    0.05    \n",
      "Test time         4.13    4.01    4.03    3.97    4.13    4.06    0.06    \n"
     ]
    },
    {
     "data": {
      "text/plain": [
       "{'test_rmse': array([0.96626563, 0.9636614 , 0.94862724, 0.96562763, 0.95150944]),\n",
       " 'test_mae': array([0.74304308, 0.74274997, 0.73404243, 0.74419609, 0.73677846]),\n",
       " 'fit_time': (4.440331220626831,\n",
       "  4.421489477157593,\n",
       "  4.302669286727905,\n",
       "  4.434353590011597,\n",
       "  4.360091924667358),\n",
       " 'test_time': (4.131731271743774,\n",
       "  4.01412558555603,\n",
       "  4.034442901611328,\n",
       "  3.9702632427215576,\n",
       "  4.127396821975708)}"
      ]
     },
     "execution_count": 11,
     "metadata": {},
     "output_type": "execute_result"
    }
   ],
   "source": [
    "# trenowanie najlepszego znalezionego modelu KNNBaseline\n",
    "best_knn = gs_knn.best_estimator['rmse']\n",
    "trainset = data.build_full_trainset()\n",
    "best_knn.fit(trainset)\n",
    "cross_validate(best_knn, data, measures=['RMSE', 'MAE'], cv=5, verbose=True)"
   ]
  },
  {
   "cell_type": "code",
   "execution_count": 12,
   "metadata": {},
   "outputs": [
    {
     "name": "stdout",
     "output_type": "stream",
     "text": [
      "Estimating biases using als...\n",
      "Computing the cosine similarity matrix...\n",
      "Done computing similarity matrix.\n",
      "Estimating biases using als...\n",
      "Computing the cosine similarity matrix...\n",
      "Done computing similarity matrix.\n",
      "Estimating biases using als...\n",
      "Computing the cosine similarity matrix...\n",
      "Done computing similarity matrix.\n",
      "Estimating biases using als...\n",
      "Computing the cosine similarity matrix...\n",
      "Done computing similarity matrix.\n",
      "Estimating biases using als...\n",
      "Computing the cosine similarity matrix...\n",
      "Done computing similarity matrix.\n"
     ]
    },
    {
     "data": {
      "text/html": [
       "<div>\n",
       "<style scoped>\n",
       "    .dataframe tbody tr th:only-of-type {\n",
       "        vertical-align: middle;\n",
       "    }\n",
       "\n",
       "    .dataframe tbody tr th {\n",
       "        vertical-align: top;\n",
       "    }\n",
       "\n",
       "    .dataframe thead th {\n",
       "        text-align: right;\n",
       "    }\n",
       "</style>\n",
       "<table border=\"1\" class=\"dataframe\">\n",
       "  <thead>\n",
       "    <tr style=\"text-align: right;\">\n",
       "      <th></th>\n",
       "      <th>test_rmse</th>\n",
       "      <th>test_mae</th>\n",
       "      <th>fit_time</th>\n",
       "      <th>test_time</th>\n",
       "    </tr>\n",
       "    <tr>\n",
       "      <th>Algorithm</th>\n",
       "      <th></th>\n",
       "      <th></th>\n",
       "      <th></th>\n",
       "      <th></th>\n",
       "    </tr>\n",
       "  </thead>\n",
       "  <tbody>\n",
       "    <tr>\n",
       "      <th>SVD</th>\n",
       "      <td>0.873498</td>\n",
       "      <td>0.670770</td>\n",
       "      <td>0.768771</td>\n",
       "      <td>0.098368</td>\n",
       "    </tr>\n",
       "    <tr>\n",
       "      <th>KNNBaseline</th>\n",
       "      <td>0.951029</td>\n",
       "      <td>0.732588</td>\n",
       "      <td>4.402016</td>\n",
       "      <td>3.962952</td>\n",
       "    </tr>\n",
       "  </tbody>\n",
       "</table>\n",
       "</div>"
      ],
      "text/plain": [
       "             test_rmse  test_mae  fit_time  test_time\n",
       "Algorithm                                            \n",
       "SVD           0.873498  0.670770  0.768771   0.098368\n",
       "KNNBaseline   0.951029  0.732588  4.402016   3.962952"
      ]
     },
     "execution_count": 12,
     "metadata": {},
     "output_type": "execute_result"
    }
   ],
   "source": [
    "# porównanie dwóch algorytmów\n",
    "benchmark = []\n",
    "\n",
    "for algorithm in [svd, best_knn]:\n",
    "    results = cross_validate(algorithm, data, measures=['RMSE', 'MAE'], cv=5, verbose=False)\n",
    "    tmp = pd.DataFrame(results)\n",
    "    numeric_columns = tmp.select_dtypes(include=[np.number]).columns\n",
    "    mean_results = tmp[numeric_columns].mean(axis=0)\n",
    "    mean_results['Algorithm'] = str(algorithm).split(' ')[0].split('.')[-1]\n",
    "    benchmark.append(mean_results)\n",
    "\n",
    "benchmark_df = pd.DataFrame(benchmark)\n",
    "benchmark_df = benchmark_df.set_index('Algorithm').sort_values('test_rmse')\n",
    "benchmark_df"
   ]
  },
  {
   "cell_type": "code",
   "execution_count": 13,
   "metadata": {},
   "outputs": [
    {
     "name": "stdout",
     "output_type": "stream",
     "text": [
      "      movieId                          title  \\\n",
      "8599   117851  Penguins of Madagascar (2014)   \n",
      "\n",
      "                                   genres  \n",
      "8599  Adventure|Animation|Children|Comedy  \n",
      "      movieId                                        title  \\\n",
      "8296   106489  Hobbit: The Desolation of Smaug, The (2013)   \n",
      "\n",
      "                      genres  \n",
      "8296  Adventure|Fantasy|IMAX  \n"
     ]
    }
   ],
   "source": [
    "# szukanie id \n",
    "print(movies[movies['title'].str.contains('Penguins of Madagascar')])\n",
    "print(movies[movies['title'].str.contains('Hobbit: The Desolation of Smaug')])"
   ]
  },
  {
   "cell_type": "code",
   "execution_count": 14,
   "metadata": {},
   "outputs": [],
   "source": [
    "# funkcja zwracająca podobne filmy\n",
    "def get_similar_movies(movie_id, k=10):\n",
    "    try:\n",
    "        inner_id = best_knn.trainset.to_inner_iid(movie_id)\n",
    "        neighbors = best_knn.get_neighbors(inner_id, k=k)\n",
    "        neighbors = (best_knn.trainset.to_raw_iid(inner_id) for inner_id in neighbors)\n",
    "        return list(neighbors)\n",
    "    except ValueError:\n",
    "        print(f\"Movie ID {movie_id} is not in the training set.\")\n",
    "        return []"
   ]
  },
  {
   "cell_type": "code",
   "execution_count": 15,
   "metadata": {},
   "outputs": [
    {
     "name": "stdout",
     "output_type": "stream",
     "text": [
      "      movieId                            title  \\\n",
      "412       474       In the Line of Fire (1993)   \n",
      "630       802                Phenomenon (1996)   \n",
      "1074     1394           Raising Arizona (1987)   \n",
      "3619     4969  And Then There Were None (1945)   \n",
      "3961     5582               Captain Ron (1992)   \n",
      "5381     8970         Finding Neverland (2004)   \n",
      "6181    44840         Benchwarmers, The (2006)   \n",
      "6680    57951               Fool's Gold (2008)   \n",
      "7842    93363               John Carter (2012)   \n",
      "8056    98961          Zero Dark Thirty (2012)   \n",
      "\n",
      "                               genres  \n",
      "412                   Action|Thriller  \n",
      "630                     Drama|Romance  \n",
      "1074                           Comedy  \n",
      "3619                    Crime|Mystery  \n",
      "3961                 Adventure|Comedy  \n",
      "5381                            Drama  \n",
      "6181                           Comedy  \n",
      "6680  Action|Adventure|Comedy|Romance  \n",
      "7842     Action|Adventure|Sci-Fi|IMAX  \n",
      "8056            Action|Drama|Thriller  \n"
     ]
    }
   ],
   "source": [
    "# 10 rekomendacji po obejrzeniu Hobbita\n",
    "hobbit_id = 106489\n",
    "similar_movies_hobbit = get_similar_movies(hobbit_id)\n",
    "print(movies[movies['movieId'].isin(similar_movies_hobbit)])"
   ]
  },
  {
   "cell_type": "code",
   "execution_count": 16,
   "metadata": {},
   "outputs": [
    {
     "name": "stdout",
     "output_type": "stream",
     "text": [
      "      movieId                                              title  \\\n",
      "914      1213                                  Goodfellas (1990)   \n",
      "920      1219                                      Psycho (1960)   \n",
      "1840     2447                               Varsity Blues (1999)   \n",
      "2248     2985                                     RoboCop (1987)   \n",
      "2983     3996  Crouching Tiger, Hidden Dragon (Wo hu cang lon...   \n",
      "4800     7153  Lord of the Rings: The Return of the King, The...   \n",
      "6428    51540                                      Zodiac (2007)   \n",
      "6516    53953                                        1408 (2007)   \n",
      "6680    57951                                 Fool's Gold (2008)   \n",
      "8297   106491                                    47 Ronin (2013)   \n",
      "\n",
      "                                  genres  \n",
      "914                          Crime|Drama  \n",
      "920                         Crime|Horror  \n",
      "1840                        Comedy|Drama  \n",
      "2248  Action|Crime|Drama|Sci-Fi|Thriller  \n",
      "2983                Action|Drama|Romance  \n",
      "4800      Action|Adventure|Drama|Fantasy  \n",
      "6428                Crime|Drama|Thriller  \n",
      "6516               Drama|Horror|Thriller  \n",
      "6680     Action|Adventure|Comedy|Romance  \n",
      "8297            Action|Adventure|Fantasy  \n"
     ]
    }
   ],
   "source": [
    "# 10 rekomendacji po obejrzeniu Pingwinów z Madagaskaru\n",
    "penguin_id = 117851\n",
    "similar_movies_penguin = get_similar_movies(penguin_id)\n",
    "print(movies[movies['movieId'].isin(similar_movies_penguin)])"
   ]
  }
 ],
 "metadata": {
  "kernelspec": {
   "display_name": "py310",
   "language": "python",
   "name": "python3"
  },
  "language_info": {
   "codemirror_mode": {
    "name": "ipython",
    "version": 3
   },
   "file_extension": ".py",
   "mimetype": "text/x-python",
   "name": "python",
   "nbconvert_exporter": "python",
   "pygments_lexer": "ipython3",
   "version": "3.10.14"
  }
 },
 "nbformat": 4,
 "nbformat_minor": 2
}
